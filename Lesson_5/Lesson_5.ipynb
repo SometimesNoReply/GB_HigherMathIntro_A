{
 "cells": [
  {
   "cell_type": "markdown",
   "metadata": {},
   "source": [
    "# Тема “Элементы теории вероятностей”"
   ]
  },
  {
   "cell_type": "code",
   "execution_count": 1,
   "metadata": {},
   "outputs": [],
   "source": [
    "%matplotlib inline\n",
    "import numpy as np\n",
    "import matplotlib.pyplot as plt\n",
    "import itertools"
   ]
  },
  {
   "cell_type": "markdown",
   "metadata": {},
   "source": [
    "### 1. Напишите код, моделирующий выпадение поля в рулетке (с учетом поля зеро)."
   ]
  },
  {
   "cell_type": "code",
   "execution_count": 2,
   "metadata": {},
   "outputs": [
    {
     "data": {
      "text/plain": [
       "16"
      ]
     },
     "execution_count": 2,
     "metadata": {},
     "output_type": "execute_result"
    }
   ],
   "source": [
    "np.random.randint(0, 37)"
   ]
  },
  {
   "cell_type": "markdown",
   "metadata": {},
   "source": [
    "### 2.1 Напишите код, проверяющий любую из теорем сложения или умножения вероятности на примере рулетки или подбрасывания монетки."
   ]
  },
  {
   "cell_type": "code",
   "execution_count": 3,
   "metadata": {},
   "outputs": [
    {
     "name": "stdout",
     "output_type": "stream",
     "text": [
      "В 747 из 1000000 случаях при запуске двух рулеток выпадали зеро.\n",
      "Вероятность в опыте: 0.000747\n",
      "Вероятность по расчете: 0.0007304601899196494\n"
     ]
    }
   ],
   "source": [
    "# Имеем 2 рулетки. Проводим n испытаний. Запуски независимы.\n",
    "# Проверяем P(AB) = P(A)*P(B)\n",
    "# Ищем вероятность выпадания зеро на обоих рулетках в результате опыта\n",
    "n = 1000000 # опыт\n",
    "r1 = np.random.randint(0, 37, n) # запуски рулетки №1\n",
    "r2 = np.random.randint(0, 37, n) # запуски рулетки №2\n",
    "success = 0\n",
    "for i in range(n):\n",
    "    if r1[i] == 0 and r2[i] == 0:\n",
    "        success += 1\n",
    "print(f\"В {success} из {n} случаях при запуске двух рулеток выпадали зеро.\")\n",
    "print(f\"Вероятность в опыте: {success/n}\")\n",
    "print(f\"Вероятность по расчете: {1/(37*37)}\")"
   ]
  },
  {
   "cell_type": "markdown",
   "metadata": {},
   "source": [
    "### 2.2 Сгенерируйте десять выборок случайных чисел х0, …, х9. и постройте гистограмму распределения случайной суммы х0+х1+ …+ х9."
   ]
  },
  {
   "cell_type": "code",
   "execution_count": 4,
   "metadata": {},
   "outputs": [
    {
     "data": {
      "text/plain": [
       "array([[66, 42,  7, 14, 67, 69, 27, 21, 94, 28],\n",
       "       [17, 67, 90,  3, 82, 28, 96, 99, 49, 27],\n",
       "       [19, 81, 66, 82,  3, 14, 17, 66, 51, 39],\n",
       "       [74, 74, 88, 81, 82,  0, 79, 49, 89, 54],\n",
       "       [60, 68, 73, 48, 73, 19, 98, 37, 93, 97],\n",
       "       [91, 69, 23,  4, 32, 57, 26, 69, 94, 37],\n",
       "       [83, 92, 58, 35,  4, 11, 65, 83, 31, 77],\n",
       "       [ 6, 92, 29, 60, 36, 60, 19,  8, 91,  6],\n",
       "       [49, 62, 62,  0, 25,  9, 51, 29, 36, 13],\n",
       "       [79, 87, 11, 79, 67, 94, 11, 91, 24, 78]])"
      ]
     },
     "execution_count": 4,
     "metadata": {},
     "output_type": "execute_result"
    }
   ],
   "source": [
    "a = np.random.randint(0, 100, (10,10))\n",
    "a"
   ]
  },
  {
   "cell_type": "code",
   "execution_count": 5,
   "metadata": {},
   "outputs": [
    {
     "data": {
      "text/plain": [
       "[435, 558, 438, 670, 666, 502, 539, 407, 336, 621]"
      ]
     },
     "execution_count": 5,
     "metadata": {},
     "output_type": "execute_result"
    }
   ],
   "source": [
    "s = [0]*len(a)\n",
    "for i,v in enumerate(a):\n",
    "    s[i] = np.sum(v)\n",
    "s"
   ]
  },
  {
   "cell_type": "code",
   "execution_count": 6,
   "metadata": {},
   "outputs": [
    {
     "data": {
      "text/plain": [
       "Text(0.5, 1.0, 'Histogram')"
      ]
     },
     "execution_count": 6,
     "metadata": {},
     "output_type": "execute_result"
    },
    {
     "data": {
      "image/png": "[encoded data removed]",
      "text/plain": [
       "<Figure size 432x288 with 1 Axes>"
      ]
     },
     "metadata": {
      "needs_background": "light"
     },
     "output_type": "display_data"
    }
   ],
   "source": [
    "num_bins = 8\n",
    "n, bins, patches = plt.hist(s, num_bins)\n",
    "plt.xlabel('x')\n",
    "plt.ylabel('Probability')\n",
    "plt.title('Histogram')"
   ]
  },
  {
   "cell_type": "markdown",
   "metadata": {},
   "source": [
    "### 3.1 Дополните код Монте-Карло последовательности независимых испытаний расчетом соответствующих вероятностей (через биномиальное распределение) и сравните результаты."
   ]
  },
  {
   "cell_type": "code",
   "execution_count": 7,
   "metadata": {},
   "outputs": [
    {
     "name": "stdout",
     "output_type": "stream",
     "text": [
      "0.376\n"
     ]
    }
   ],
   "source": [
    "k, n = 0, 10000\n",
    "a = np.random.randint(0, 2, n)\n",
    "b = np.random.randint(0, 2, n)\n",
    "c = np.random.randint(0, 2, n)\n",
    "d = np.random.randint(0, 2, n)\n",
    "x = a + b + c + d\n",
    "for i in range(0, n):\n",
    "    if x[i] == 2:\n",
    "        k = k + 1\n",
    "print(k/n)"
   ]
  },
  {
   "cell_type": "code",
   "execution_count": 8,
   "metadata": {},
   "outputs": [
    {
     "name": "stdout",
     "output_type": "stream",
     "text": [
      "0.375\n"
     ]
    }
   ],
   "source": [
    "nn = 4\n",
    "kk = 2\n",
    "fa = np.math.factorial\n",
    "C_k_n = fa(nn)/(fa(kk)*fa(nn-kk))\n",
    "P_n_k = C_k_n * (1 / (2**nn))\n",
    "print(P_n_k)"
   ]
  },
  {
   "cell_type": "markdown",
   "metadata": {},
   "source": [
    "### 3.2 Повторите расчеты биномиальных коэффициентов и вероятностей k успехов в последовательности из n независимых испытаний, взяв другие значения n и k."
   ]
  },
  {
   "cell_type": "code",
   "execution_count": 9,
   "metadata": {},
   "outputs": [
    {
     "name": "stdout",
     "output_type": "stream",
     "text": [
      "0.0562\n"
     ]
    }
   ],
   "source": [
    "k, n = 0, 10000\n",
    "a = np.random.randint(0, 2, n)\n",
    "b = np.random.randint(0, 2, n)\n",
    "c = np.random.randint(0, 2, n)\n",
    "d = np.random.randint(0, 2, n)\n",
    "x = a + b + c + d\n",
    "for i in range(0, n):\n",
    "    if x[i] == 0:\n",
    "        k = k + 1\n",
    "print(k/n)"
   ]
  },
  {
   "cell_type": "code",
   "execution_count": 10,
   "metadata": {},
   "outputs": [
    {
     "name": "stdout",
     "output_type": "stream",
     "text": [
      "0.0625\n"
     ]
    }
   ],
   "source": [
    "nn = 4\n",
    "kk = 0\n",
    "fa = np.math.factorial\n",
    "C_k_n = fa(nn)/(fa(kk)*fa(nn-kk))\n",
    "P_n_k = C_k_n * (1 / (2**nn))\n",
    "print(P_n_k)"
   ]
  },
  {
   "cell_type": "markdown",
   "metadata": {},
   "source": [
    "### 4. Из урока по комбинаторике повторите расчеты, сгенерировав возможные варианты перестановок для других значений n и k"
   ]
  },
  {
   "cell_type": "code",
   "execution_count": 11,
   "metadata": {},
   "outputs": [
    {
     "name": "stdout",
     "output_type": "stream",
     "text": [
      "['12', '13', '14', '15', '16', '21', '23', '24', '25', '26', '31', '32', '34', '35', '36', '41', '42', '43', '45', '46', '51', '52', '53', '54', '56', '61', '62', '63', '64', '65']\n"
     ]
    }
   ],
   "source": [
    "v = []\n",
    "for p in itertools.permutations(\"123456\",2):\n",
    "    v.append(''.join(str(x) for x in p))\n",
    "print(v)"
   ]
  },
  {
   "cell_type": "markdown",
   "metadata": {},
   "source": [
    "### 5. Дополните код расчетом коэффициента корреляции x и y по формуле\n"
   ]
  },
  {
   "cell_type": "code",
   "execution_count": 12,
   "metadata": {},
   "outputs": [
    {
     "name": "stdout",
     "output_type": "stream",
     "text": [
      "0.6849046530061083 0.1780529667816722\n",
      "0.6849046530061087 0.17805296678167232\n"
     ]
    },
    {
     "data": {
      "image/png": "[encoded data removed]",
      "text/plain": [
       "<Figure size 432x288 with 1 Axes>"
      ]
     },
     "metadata": {
      "needs_background": "light"
     },
     "output_type": "display_data"
    }
   ],
   "source": [
    "n = 100\n",
    "r = 0.7\n",
    "x = np.random.rand(n)\n",
    "y = r*x + (1 - r)*np.random.rand(n)\n",
    "plt.plot(x, y, 'o')\n",
    "plt.xlabel('x')\n",
    "plt.ylabel('y')\n",
    "plt.grid(True)\n",
    "\n",
    "a = (np.sum(x)*np.sum(y) - n*np.sum(x*y))/(np.sum(x)*np.sum(x) - n*np.sum(x*x))\n",
    "b = (np.sum(y) - a*np.sum(x))/n\n",
    "\n",
    "A = np.vstack([x, np.ones(len(x))]).T\n",
    "a1, b1 = np.linalg.lstsq(A, y, rcond=None)[0]\n",
    "print(a, b)\n",
    "print(a1, b1)\n",
    "plt.plot([0, 1], [b, a + b])\n",
    "plt.show()"
   ]
  },
  {
   "cell_type": "code",
   "execution_count": 13,
   "metadata": {},
   "outputs": [
    {
     "name": "stdout",
     "output_type": "stream",
     "text": [
      "0.9198366431497719\n",
      "0.9198366431497725\n"
     ]
    }
   ],
   "source": [
    "x_m = np.sum(x)/n\n",
    "y_m = np.sum(y)/n\n",
    "x_d = x - x_m\n",
    "y_d = y - y_m\n",
    "R = np.sum(x_d * y_d) / np.sqrt(np.sum(x_d * x_d) * np.sum(y_d * y_d))\n",
    "print(R)\n",
    "\n",
    "print(np.corrcoef(x, y)[0,1])"
   ]
  }
 ],
 "metadata": {
  "kernelspec": {
   "display_name": "Python 3",
   "language": "python",
   "name": "python3"
  },
  "language_info": {
   "codemirror_mode": {
    "name": "ipython",
    "version": 3
   },
   "file_extension": ".py",
   "mimetype": "text/x-python",
   "name": "python",
   "nbconvert_exporter": "python",
   "pygments_lexer": "ipython3",
   "version": "3.7.6"
  }
 },
 "nbformat": 4,
 "nbformat_minor": 4
}
